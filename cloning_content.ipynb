#Imports

import arcpy 
from arcgis.gis import GIS 

import getpass

#Login parameters - SOURCE

print("Please enter your credentials for the SOURCE ArcGIS portal.")
print("==========")
print("")

source_url = input(prompt='URL: ')
source_user = input(prompt='Username: ')
source_pass = getpass.getpass(prompt='Password: ')
print("")

gis_source = GIS(source_url, source_user, source_pass)

#Login parameters - DESTINATION

print("")
print("Please enter your credentials for the DESTINATION ArcGIS portal.")
print("==========")
print("")

target_url = input(prompt='URL: ')
target_user = input(prompt='Username: ')
target_pass = getpass.getpass(prompt='Password: ')
print("")

gis_destination = GIS(target_url, target_user, target_pass)

#Search and display contents of account

print('')
print('Portal contents:')
print('================')

search_my_contents = gis_source.content.search(query='owner:' + gis_source.users.me.username, item_type="StoryMap", outside_org=False)

from IPython.display import display

for item in search_my_contents:
        display(item,item.id)

#Clone Web Application

print('================')        
print("")
web_app_id = input(prompt='Copy and paste the ID number from the above list for the application to be cloned: ')

print("Cloning application...")
item = gis_source.content.get(web_app_id)
cloned_items = gis_destination.content.clone_items(items=[item], copy_data=True)

print("Completed!")
